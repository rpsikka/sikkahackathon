{
 "cells": [
  {
   "cell_type": "markdown",
   "id": "63bf2587",
   "metadata": {},
   "source": [
    "## Read Data"
   ]
  },
  {
   "cell_type": "code",
   "execution_count": null,
   "id": "1bb34355",
   "metadata": {},
   "outputs": [],
   "source": [
    "import numpy as np # linear algebra\n",
    "import pandas as pd # data processing\n",
    "import matplotlib as mpl\n",
    "import matplotlib.pyplot as plt   # data visualization\n",
    "import seaborn as sns  "
   ]
  },
  {
   "cell_type": "code",
   "execution_count": null,
   "id": "6cc3c5df",
   "metadata": {},
   "outputs": [],
   "source": [
    "df = pd.read_csv('data_file.csv')\n",
    "\n",
    "df.head()"
   ]
  },
  {
   "cell_type": "code",
   "execution_count": null,
   "id": "0504a45c",
   "metadata": {},
   "outputs": [],
   "source": [
    "df.info()"
   ]
  },
  {
   "cell_type": "code",
   "execution_count": null,
   "id": "02ee756c",
   "metadata": {},
   "outputs": [],
   "source": [
    "#df.value_counts()"
   ]
  },
  {
   "cell_type": "code",
   "execution_count": null,
   "id": "80125e69",
   "metadata": {},
   "outputs": [],
   "source": [
    "#df['id'].unique()"
   ]
  },
  {
   "cell_type": "code",
   "execution_count": null,
   "id": "db873e37",
   "metadata": {},
   "outputs": [],
   "source": [
    "df.groupby(['id'])"
   ]
  },
  {
   "cell_type": "code",
   "execution_count": null,
   "id": "405f12e8",
   "metadata": {},
   "outputs": [],
   "source": [
    "df = df.sort_values(by=['year','month'],ascending=(True,True))"
   ]
  },
  {
   "cell_type": "code",
   "execution_count": null,
   "id": "37cc54dc",
   "metadata": {},
   "outputs": [],
   "source": [
    "#df.tail(10)"
   ]
  },
  {
   "cell_type": "code",
   "execution_count": null,
   "id": "f0e77935",
   "metadata": {},
   "outputs": [],
   "source": [
    "def df_practice(i):\n",
    "    df_id = df[df['id']==i]\n",
    "    return df_id"
   ]
  },
  {
   "cell_type": "markdown",
   "id": "1ea911a0",
   "metadata": {},
   "source": [
    "## Prepare Data for Modelling"
   ]
  },
  {
   "cell_type": "code",
   "execution_count": null,
   "id": "cf485302",
   "metadata": {},
   "outputs": [],
   "source": [
    "df.month=df.month.astype(str)"
   ]
  },
  {
   "cell_type": "code",
   "execution_count": null,
   "id": "21e1fc4d",
   "metadata": {},
   "outputs": [],
   "source": [
    "df.year=df.year.astype(str)"
   ]
  },
  {
   "cell_type": "code",
   "execution_count": null,
   "id": "6541bea1",
   "metadata": {},
   "outputs": [],
   "source": [
    "df.head(1)"
   ]
  },
  {
   "cell_type": "code",
   "execution_count": null,
   "id": "159a8102",
   "metadata": {},
   "outputs": [],
   "source": [
    "df['ds'] = pd.to_datetime(df['month']+df['year'],format='%m%Y',errors='coerce')"
   ]
  },
  {
   "cell_type": "code",
   "execution_count": null,
   "id": "9b27be6e",
   "metadata": {},
   "outputs": [],
   "source": [
    "df_prophet = df1[['ds','production']]\n",
    "df_prophet.columns = ['ds','y']"
   ]
  },
  {
   "cell_type": "code",
   "execution_count": null,
   "id": "36c20c9d",
   "metadata": {},
   "outputs": [],
   "source": [
    "### Get data for practice 1\n",
    "df1 = df[df['id']==1]\n",
    "df1.tail(3)"
   ]
  },
  {
   "cell_type": "markdown",
   "id": "2e0bf012",
   "metadata": {},
   "source": [
    "## Use fbprophet for Modelling"
   ]
  },
  {
   "cell_type": "code",
   "execution_count": null,
   "id": "5bb8adb0",
   "metadata": {},
   "outputs": [],
   "source": [
    "from prophet import Prophet"
   ]
  },
  {
   "cell_type": "code",
   "execution_count": null,
   "id": "0aa61621",
   "metadata": {},
   "outputs": [],
   "source": [
    "# define the model\n",
    "model = Prophet(seasonality_mode='multiplicative', changepoint_prior_scale=0.4,\n",
    "                    seasonality_prior_scale=1.0, n_changepoints=100)\n",
    "# fit the model with seasonality\n",
    "model.fit(df_prophet)"
   ]
  },
  {
   "cell_type": "code",
   "execution_count": null,
   "id": "1cf53302",
   "metadata": {},
   "outputs": [],
   "source": [
    "# define the period for which we want a prediction\n",
    "future = list()\n",
    "# use last year data to make in-sample predictiom\n",
    "for i in range(1, 13):\n",
    "\tdate = '2020-%02d' % i\n",
    "\tfuture.append([date])\n",
    "future = DataFrame(future)\n",
    "future.columns = ['ds']\n",
    "future['ds']= to_datetime(future['ds'])"
   ]
  },
  {
   "cell_type": "code",
   "execution_count": null,
   "id": "b1f1610d",
   "metadata": {},
   "outputs": [],
   "source": [
    "# use the model to make a forecast\n",
    "forecast = model.predict(future)\n",
    "# summarize the forecast\n",
    "print(forecast[['ds', 'yhat', 'yhat_lower', 'yhat_upper']].head())\n",
    "# plot forecast\n",
    "model.plot(forecast)\n",
    "pyplot.show()"
   ]
  },
  {
   "cell_type": "markdown",
   "id": "0d40ff5f",
   "metadata": {},
   "source": [
    "## Calculate MAPE"
   ]
  },
  {
   "cell_type": "code",
   "execution_count": null,
   "id": "1ad54d0c",
   "metadata": {},
   "outputs": [],
   "source": [
    "import numpy as np\n",
    "def mean_absolute_percentage_error(y_true, y_pred):\n",
    "    return np.mean(np.abs((y_true - y_pred) / y_true)) * 100"
   ]
  },
  {
   "cell_type": "code",
   "execution_count": null,
   "id": "4c0f2348",
   "metadata": {},
   "outputs": [],
   "source": [
    "y_pred = forecast['yhat']\n",
    "type(y_pred.values)"
   ]
  },
  {
   "cell_type": "code",
   "execution_count": null,
   "id": "877d0329",
   "metadata": {},
   "outputs": [],
   "source": [
    "y_true = df_prophet['y'][-12:]\n",
    "type(y_true.values)\n"
   ]
  },
  {
   "cell_type": "code",
   "execution_count": null,
   "id": "2b59eda4",
   "metadata": {},
   "outputs": [],
   "source": [
    "MAPE = mean_absolute_percentage_error(y_true.values, y_pred.values)\n",
    "MAPE"
   ]
  },
  {
   "cell_type": "markdown",
   "id": "c7f52b63",
   "metadata": {},
   "source": [
    "## Improve the Model"
   ]
  },
  {
   "cell_type": "code",
   "execution_count": null,
   "id": "204688f1",
   "metadata": {},
   "outputs": [],
   "source": [
    "pip install dask"
   ]
  },
  {
   "cell_type": "code",
   "execution_count": null,
   "id": "428f9361",
   "metadata": {},
   "outputs": [],
   "source": [
    "from dask.distributed import Client\n",
    "client = Client()  # connect to the cluster\n"
   ]
  },
  {
   "cell_type": "code",
   "execution_count": null,
   "id": "06cdcd94",
   "metadata": {},
   "outputs": [],
   "source": [
    "import itertools\n",
    "import numpy as np\n",
    "import pandas as pd\n",
    "\n",
    "\n",
    "from sklearn.model_selection import ParameterGrid\n",
    "param_grid = {'seasonality_mode':('multiplicative','additive'),\n",
    "               'changepoint_prior_scale':[0.4,0.5],\n",
    "              'seasonality_prior_scale': [1.0, 10.0],\n",
    "              'n_changepoints' : [100,150,200]}\n",
    "\n",
    "\n",
    "\n",
    "#param_grid = {  \n",
    "#    'changepoint_prior_scale': [0.001, 0.01, 0.1, 0.5],\n",
    "#    'seasonality_prior_scale': [0.01, 0.1, 1.0, 10.0],\n",
    "#}\n",
    "\n",
    "# Generate all combinations of parameters\n",
    "all_params = [dict(zip(param_grid.keys(), v)) for v in itertools.product(*param_grid.values())]\n",
    "mape = []  # Store the MAPEs for each params here\n",
    "\n",
    "grid = ParameterGrid(param_grid)\n",
    "cnt = 0\n",
    "for p in grid:\n",
    "    cnt = cnt+1\n",
    "\n",
    "print('Total Possible Models',cnt)\n"
   ]
  },
  {
   "cell_type": "code",
   "execution_count": null,
   "id": "fa26d961",
   "metadata": {},
   "outputs": [],
   "source": [
    "# Use cross validation to evaluate all parameters\n",
    "for params in all_params:\n",
    "    model = Prophet(**params).fit(df_prophet)  # Fit model with given params\n",
    "    df_cv = cross_validation(model, horizon='90 days', parallel=\"dask\")\n",
    "    df_p = performance_metrics(df_cv, rolling_window=0.1)\n",
    "    mape.append(df_p['mape'].values[0])"
   ]
  },
  {
   "cell_type": "code",
   "execution_count": null,
   "id": "8682927a",
   "metadata": {},
   "outputs": [],
   "source": [
    "# Find the best parameters\n",
    "tuning_results = pd.DataFrame(all_params)\n",
    "tuning_results['mape'] = mape\n",
    "print(tuning_results)"
   ]
  },
  {
   "cell_type": "code",
   "execution_count": null,
   "id": "7b7cee83",
   "metadata": {},
   "outputs": [],
   "source": [
    "best_params = all_params[np.argmin(mape)]\n",
    "print(best_params)\n",
    "# {'seasonality_mode': 'multiplicative', 'changepoint_prior_scale': 0.4, 'seasonality_prior_scale': 1.0, 'n_changepoints': 100}"
   ]
  },
  {
   "cell_type": "markdown",
   "id": "777b9b47",
   "metadata": {},
   "source": [
    "## Make Out-of-Sample Predictions and Write Results"
   ]
  },
  {
   "cell_type": "code",
   "execution_count": null,
   "id": "33189b15",
   "metadata": {},
   "outputs": [],
   "source": [
    "for i in df['id'].unique():\n",
    "    df_i = df_practice(i)\n",
    "    df_prophet = df_i[['ds','production']]\n",
    "    df_prophet.columns = ['ds','y']\n",
    "    # define the model\n",
    "    model = Prophet(seasonality_mode='multiplicative', changepoint_prior_scale=0.4,\n",
    "                    seasonality_prior_scale=1.0, n_changepoints=100)\n",
    "    # fit the model with seasonality\n",
    "    model.fit(df_prophet)\n",
    "    # define the period for which we want a prediction\n",
    "    future = list()\n",
    "    # for next year data to make out-of-sample predictiom\n",
    "    for j in range(1, 5):\n",
    "\t    date = '2021-%02d' % j\n",
    "\t    future.append([date])\n",
    "    future = DataFrame(future)\n",
    "    future.columns = ['ds']\n",
    "    future['ds']= to_datetime(future['ds'])\n",
    "    # use the model to make a forecast\n",
    "    forecast = model.predict(future)\n",
    "    y_pred = forecast['yhat']\n",
    "    # write results\n",
    "    forecast['id'] = i\n",
    "    forecast['year'] = pd.DatetimeIndex(forecast['ds']).year\n",
    "    forecast['month'] = pd.DatetimeIndex(forecast['ds']).month\n",
    "    forecast['production'] = forecast['yhat']\n",
    "    result_df = forecast[['id','year','month','production']]\n",
    "    result_df.to_csv('results.csv',mode = 'a',header=False, index=False)"
   ]
  },
  {
   "cell_type": "code",
   "execution_count": null,
   "id": "8acce221",
   "metadata": {},
   "outputs": [],
   "source": []
  },
  {
   "cell_type": "code",
   "execution_count": null,
   "id": "db053ab9",
   "metadata": {},
   "outputs": [],
   "source": []
  }
 ],
 "metadata": {
  "kernelspec": {
   "display_name": "Python 3",
   "language": "python",
   "name": "python3"
  },
  "language_info": {
   "codemirror_mode": {
    "name": "ipython",
    "version": 3
   },
   "file_extension": ".py",
   "mimetype": "text/x-python",
   "name": "python",
   "nbconvert_exporter": "python",
   "pygments_lexer": "ipython3",
   "version": "3.8.8"
  }
 },
 "nbformat": 4,
 "nbformat_minor": 5
}
